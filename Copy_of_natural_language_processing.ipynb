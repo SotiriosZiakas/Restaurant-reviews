{
  "nbformat": 4,
  "nbformat_minor": 0,
  "metadata": {
    "colab": {
      "name": "Copy of natural_language_processing.ipynb",
      "provenance": [],
      "collapsed_sections": [],
      "include_colab_link": true
    },
    "kernelspec": {
      "name": "python3",
      "display_name": "Python 3"
    }
  },
  "cells": [
    {
      "cell_type": "markdown",
      "metadata": {
        "id": "view-in-github",
        "colab_type": "text"
      },
      "source": [
        "<a href=\"https://colab.research.google.com/github/SotiriosZiakas/Restaurant-reviews/blob/main/Copy_of_natural_language_processing.ipynb\" target=\"_parent\"><img src=\"https://colab.research.google.com/assets/colab-badge.svg\" alt=\"Open In Colab\"/></a>"
      ]
    },
    {
      "cell_type": "markdown",
      "metadata": {
        "id": "VwK5-9FIB-lu"
      },
      "source": [
        "# Natural Language Processing"
      ]
    },
    {
      "cell_type": "markdown",
      "metadata": {
        "id": "X1kiO9kACE6s"
      },
      "source": [
        "## Importing the libraries"
      ]
    },
    {
      "cell_type": "code",
      "source": [
        "import numpy as np\n",
        "import pandas as pd"
      ],
      "metadata": {
        "id": "P-U8RUw88m7n"
      },
      "execution_count": 1,
      "outputs": []
    },
    {
      "cell_type": "markdown",
      "metadata": {
        "id": "wTfaCIzdCLPA"
      },
      "source": [
        "## Importing the dataset"
      ]
    },
    {
      "cell_type": "code",
      "source": [
        "# quoting = 3 ignores the double quotes (\") that we have in our texts\n",
        "dataset = pd.read_csv('Restaurant_Reviews.tsv', sep='\\t', quoting = 3) "
      ],
      "metadata": {
        "id": "KoBe_vqN8nlB"
      },
      "execution_count": 2,
      "outputs": []
    },
    {
      "cell_type": "markdown",
      "metadata": {
        "id": "Qekztq71CixT"
      },
      "source": [
        "## Cleaning the texts"
      ]
    },
    {
      "cell_type": "code",
      "source": [
        "import re                           # Regular expression\n",
        "import nltk                         # Natural Language Toolkit\n",
        "nltk.download('stopwords')          # Downloads the stopwords\n",
        "from nltk.corpus import stopwords   # Imports the stopwords\n",
        "\n",
        "# Will be used to apply stemming in our text data, i.e extract the root of every word (programmer -> program, programming -> program)\n",
        "from nltk.stem.porter import PorterStemmer \n",
        "ps = PorterStemmer()\n",
        "\n",
        "corpus =[]\n",
        "for i in range(0, len(dataset)):\n",
        "  review = re.sub('[^a-zA-Z]',' ', dataset['Review'][i]) # Replaces every punctuation with a space\n",
        "  review = review.lower()\n",
        "  review = review.split()\n",
        "  all_stopwords = stopwords.words('english')\n",
        "  all_stopwords.remove('not')                            # Removes the word 'not' form the stopwords list as we want to keep it in our texts \n",
        "  review = [ps.stem(word) for word in review if not word in set(all_stopwords)]\n",
        "  review = ' '.join(review)\n",
        "  corpus.append(review)"
      ],
      "metadata": {
        "colab": {
          "base_uri": "https://localhost:8080/"
        },
        "id": "h1gZfwwl8oUI",
        "outputId": "19f04fa2-3840-4f99-b23c-09eb7b59b83d"
      },
      "execution_count": 3,
      "outputs": [
        {
          "output_type": "stream",
          "name": "stderr",
          "text": [
            "[nltk_data] Downloading package stopwords to /root/nltk_data...\n",
            "[nltk_data]   Package stopwords is already up-to-date!\n"
          ]
        }
      ]
    },
    {
      "cell_type": "markdown",
      "metadata": {
        "id": "CLqmAkANCp1-"
      },
      "source": [
        "## Creating the Bag of Words model"
      ]
    },
    {
      "cell_type": "code",
      "source": [
        "from sklearn.feature_extraction.text import CountVectorizer\n",
        "# max_features indicates the maximum number of words (columns) that will be used. It selects the ones that occur more frequently\n",
        "cv = CountVectorizer(max_features= 1500) \n",
        "X = cv.fit_transform(corpus).toarray()\n",
        "y = dataset.iloc[:,-1].values"
      ],
      "metadata": {
        "id": "4DYH6ArQ8ozP"
      },
      "execution_count": 5,
      "outputs": []
    },
    {
      "cell_type": "code",
      "source": [
        "# This is the number of words (also the number of columns) after tokenization \n",
        "len(X[0])"
      ],
      "metadata": {
        "colab": {
          "base_uri": "https://localhost:8080/"
        },
        "id": "cdh5FeVbWpG8",
        "outputId": "b2652965-42a8-4b25-aaf5-63376afb5280"
      },
      "execution_count": 6,
      "outputs": [
        {
          "output_type": "execute_result",
          "data": {
            "text/plain": [
              "1500"
            ]
          },
          "metadata": {},
          "execution_count": 6
        }
      ]
    },
    {
      "cell_type": "markdown",
      "metadata": {
        "id": "DH_VjgPzC2cd"
      },
      "source": [
        "## Splitting the dataset into the Training set and Test set"
      ]
    },
    {
      "cell_type": "code",
      "source": [
        "from sklearn.model_selection import train_test_split\n",
        "X_train, X_test, y_train, y_test = train_test_split(X, y, test_size=0.25, random_state=0)"
      ],
      "metadata": {
        "id": "E66lGq_48pWS"
      },
      "execution_count": 7,
      "outputs": []
    },
    {
      "cell_type": "markdown",
      "metadata": {
        "id": "VkIq23vEDIPt"
      },
      "source": [
        "## Training the Naive Bayes model on the Training set"
      ]
    },
    {
      "cell_type": "code",
      "source": [
        "from sklearn.naive_bayes import MultinomialNB\n",
        "classifier = MultinomialNB()\n",
        "classifier.fit(X_train,y_train)"
      ],
      "metadata": {
        "colab": {
          "base_uri": "https://localhost:8080/"
        },
        "id": "9OLnYDxF8pyf",
        "outputId": "275c0442-25aa-48d6-d203-5f9275d68997"
      },
      "execution_count": 8,
      "outputs": [
        {
          "output_type": "execute_result",
          "data": {
            "text/plain": [
              "MultinomialNB()"
            ]
          },
          "metadata": {},
          "execution_count": 8
        }
      ]
    },
    {
      "cell_type": "markdown",
      "metadata": {
        "id": "1JaRM7zXDWUy"
      },
      "source": [
        "## Predicting the Test set results"
      ]
    },
    {
      "cell_type": "code",
      "source": [
        "y_pred = classifier.predict(X_test)"
      ],
      "metadata": {
        "id": "RG-AV3AX8qlY"
      },
      "execution_count": 9,
      "outputs": []
    },
    {
      "cell_type": "markdown",
      "metadata": {
        "id": "xoMltea5Dir1"
      },
      "source": [
        "## Making the Confusion Matrix"
      ]
    },
    {
      "cell_type": "code",
      "source": [
        "from sklearn.metrics import confusion_matrix, accuracy_score\n",
        "\n",
        "print(confusion_matrix(y_test,y_pred))\n",
        "print(\"\\n\")\n",
        "print(accuracy_score(y_test,y_pred))"
      ],
      "metadata": {
        "colab": {
          "base_uri": "https://localhost:8080/"
        },
        "id": "OpalK5Kl8rIH",
        "outputId": "fa751a68-28fd-4028-823d-5eaae8964eae"
      },
      "execution_count": 10,
      "outputs": [
        {
          "output_type": "stream",
          "name": "stdout",
          "text": [
            "[[ 90  27]\n",
            " [ 31 102]]\n",
            "\n",
            "\n",
            "0.768\n"
          ]
        }
      ]
    },
    {
      "cell_type": "markdown",
      "source": [
        "##Predicting if a single review is positive or negative"
      ],
      "metadata": {
        "id": "mkNEvLQ3eEMi"
      }
    },
    {
      "cell_type": "code",
      "source": [
        "my_review = 'I really LOVE this restaurant, very much!'\n",
        "my_review = re.sub('[^a-zA-Z]', ' ', my_review)\n",
        "my_review = my_review.lower()\n",
        "my_review = my_review.split()\n",
        "ps = PorterStemmer()\n",
        "all_stopwords = stopwords.words('english')\n",
        "all_stopwords.remove('not')\n",
        "my_review = [ps.stem(word) for word in my_review if not word in set(all_stopwords)]\n",
        "my_review = ' '.join(my_review)\n",
        "new_corpus = [my_review]\n",
        "new_y_pred = classifier.predict(cv.transform(new_corpus).toarray())\n",
        "print(new_y_pred)"
      ],
      "metadata": {
        "colab": {
          "base_uri": "https://localhost:8080/"
        },
        "id": "1v1NqIzQeDbC",
        "outputId": "5934a01b-f391-4dab-c67f-c7de58323f8e"
      },
      "execution_count": 19,
      "outputs": [
        {
          "output_type": "stream",
          "name": "stdout",
          "text": [
            "[1]\n"
          ]
        }
      ]
    },
    {
      "cell_type": "code",
      "source": [
        "my_review = 'I really hate this restaurant, so much!'\n",
        "my_review = re.sub('[^a-zA-Z]', ' ', my_review)\n",
        "my_review = my_review.lower()\n",
        "my_review = my_review.split()\n",
        "ps = PorterStemmer()\n",
        "all_stopwords = stopwords.words('english')\n",
        "all_stopwords.remove('not')\n",
        "my_review = [ps.stem(word) for word in my_review if not word in set(all_stopwords)]\n",
        "my_review = ' '.join(my_review)\n",
        "new_corpus = [my_review]\n",
        "new_y_pred = classifier.predict(cv.transform(new_corpus).toarray())\n",
        "print(new_y_pred)"
      ],
      "metadata": {
        "colab": {
          "base_uri": "https://localhost:8080/"
        },
        "id": "IgBzu5kshw2t",
        "outputId": "7d3a91f8-bcb8-42f2-cb33-f77e610de38c"
      },
      "execution_count": 20,
      "outputs": [
        {
          "output_type": "stream",
          "name": "stdout",
          "text": [
            "[0]\n"
          ]
        }
      ]
    }
  ]
}